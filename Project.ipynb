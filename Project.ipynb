{
 "cells": [
  {
   "cell_type": "markdown",
   "metadata": {},
   "source": [
    "# Spotify Data Analysis\n",
    "## Data Cleaning\n",
    "### Downloading My Spotify Data\n",
    "\n",
    "First, I needed to request my spotify streaming history, which can be done [here](https://www.spotify.com/us/account/privacy/). There will then be an email sent to confirm the data request. It can take up to 30 days for Spotify to prepare the data for download, when it will then be sent in an email with a link to the download. This will download a folder named `my_spotify_data`, which contains multiple JSON files. The files of interest are named `StreamingHistory0.json` and `StreamingHistory1.json`. These files contain the Spotify streaming history of the user for the past year. Each file contains 10000 instances, so there will be more of these files depending on how many songs have been listened to in the last year. These files can be read into a pandas `DataFrame` with the following code."
   ]
  },
  {
   "cell_type": "code",
   "execution_count": 1,
   "metadata": {},
   "outputs": [],
   "source": [
    "import pandas as pd\n",
    "\n",
    "streaming_history_0_df = pd.read_json(\"StreamingHistory0.json\")\n",
    "streaming_history_1_df = pd.read_json(\"StreamingHistory1.json\")\n",
    "\n",
    "# print(streaming_history_0_df)\n",
    "# print(streaming_history_1_df)"
   ]
  },
  {
   "cell_type": "markdown",
   "metadata": {},
   "source": [
    "### Concatenating the Datasets\n",
    "The two `DataFrames` can be concatenated using `pd.concat()` because they contain the same columns. This will add the second dataset below the first dataset. Ignoring index will make the index continue through the combined dataset, instead of starting over when the second dataset begins."
   ]
  },
  {
   "cell_type": "code",
   "execution_count": 2,
   "metadata": {},
   "outputs": [
    {
     "name": "stdout",
     "output_type": "stream",
     "text": [
      "                endTime     artistName  \\\n",
      "0      2019-12-12 23:06    Johnny Nash   \n",
      "1      2019-12-13 02:37    Johnny Nash   \n",
      "2      2019-12-13 02:40    Johnny Nash   \n",
      "3      2019-12-13 05:27    Johnny Nash   \n",
      "4      2019-12-13 05:30    Johnny Nash   \n",
      "...                 ...            ...   \n",
      "13352  2020-12-12 07:11     Lee Morgan   \n",
      "13353  2020-12-12 07:12  Wayne Shorter   \n",
      "13354  2020-12-12 07:23  Wayne Shorter   \n",
      "13355  2020-12-12 10:09  Elvis Presley   \n",
      "13356  2020-12-12 10:14             U2   \n",
      "\n",
      "                                               trackName  msPlayed  \n",
      "0                                  I Can See Clearly Now     59372  \n",
      "1                                  I Can See Clearly Now    163012  \n",
      "2                                  I Can See Clearly Now    140863  \n",
      "3                                  I Can See Clearly Now    163575  \n",
      "4                                  I Can See Clearly Now    162653  \n",
      "...                                                  ...       ...  \n",
      "13352  The Sidewinder - Remastered 1999/Rudy Van Geld...    625293  \n",
      "13353                            Virgo - Remastered 2004     91100  \n",
      "13354                            Virgo - Remastered 2004     20920  \n",
      "13355           Unchained Melody - Live at Ann Arbor, MI      8135  \n",
      "13356                                   Unchained Melody    291960  \n",
      "\n",
      "[13357 rows x 4 columns]\n"
     ]
    }
   ],
   "source": [
    "spotify_df = pd.concat([streaming_history_0_df, streaming_history_1_df], ignore_index=True)\n",
    "\n",
    "print(spotify_df)"
   ]
  },
  {
   "cell_type": "markdown",
   "metadata": {},
   "source": [
    "### Downloading My Location History\n",
    "First, I needed to request my location data from [Google Takeout](https://takeout.google.com/). This is downloaded as a JSON file, in either multiple files separated by month, or as one large file. I'll be using the large file for this project. These files can be read into a pandas `DataFrame` with the following code."
   ]
  },
  {
   "cell_type": "code",
   "execution_count": 3,
   "metadata": {},
   "outputs": [],
   "source": [
    "import json\n",
    "location_dict = json.load(open(\"Location History.json\"))\n",
    "location_df = pd.DataFrame(location_dict[\"locations\"])"
   ]
  },
  {
   "cell_type": "markdown",
   "metadata": {},
   "source": [
    "We are only interested in the time, latitude, and longitude columns. The rest of the columns have too many missing values, and they can just be deleted using the follow code."
   ]
  },
  {
   "cell_type": "code",
   "execution_count": 4,
   "metadata": {},
   "outputs": [],
   "source": [
    "location_df = location_df.drop(columns=[\"activity\", \"accuracy\", \"velocity\", \"heading\", \"altitude\", \"verticalAccuracy\"])"
   ]
  },
  {
   "cell_type": "markdown",
   "metadata": {},
   "source": [
    "We need to check if there are any missing values in the dataframe. This is done with the following code:"
   ]
  },
  {
   "cell_type": "code",
   "execution_count": 5,
   "metadata": {},
   "outputs": [
    {
     "name": "stdout",
     "output_type": "stream",
     "text": [
      "Missing Values in timestampMs: False\n",
      "Missing Values in latitudeE7:  False\n",
      "Missing Values in longitudeE7: False\n",
      "Missing values in location_df: False\n"
     ]
    }
   ],
   "source": [
    "print(\"Missing Values in timestampMs:\", location_df[\"timestampMs\"].isnull().values.any())\n",
    "print(\"Missing Values in latitudeE7: \", location_df[\"latitudeE7\"].isnull().values.any())\n",
    "print(\"Missing Values in longitudeE7:\", location_df[\"longitudeE7\"].isnull().values.any())\n",
    "print(\"Missing values in location_df:\", location_df.isnull().values.any())"
   ]
  },
  {
   "cell_type": "markdown",
   "metadata": {},
   "source": [
    "There are no missing values in the dataset, so we do not need to deal with them. If there were any, it would be best to drop the instance."
   ]
  },
  {
   "cell_type": "markdown",
   "metadata": {},
   "source": [
    "The time column for the spotify data is in the format YYYY-MM-DD HH:MM in UTC time, but the location history time is formatted in unix time in milliseconds. Unix time is the number of milliseconds after January 1st, 1970. We need to convert the location history time to YYYY-MM-DD HH:MM format. We can do this using the `datetime` library."
   ]
  },
  {
   "cell_type": "code",
   "execution_count": 6,
   "metadata": {},
   "outputs": [
    {
     "name": "stdout",
     "output_type": "stream",
     "text": [
      "2019-12-12 23:06\n"
     ]
    }
   ],
   "source": [
    "print(spotify_df[\"endTime\"][0])"
   ]
  },
  {
   "cell_type": "code",
   "execution_count": 7,
   "metadata": {},
   "outputs": [
    {
     "name": "stdout",
     "output_type": "stream",
     "text": [
      "2015-07-03 01:30\n"
     ]
    }
   ],
   "source": [
    "import datetime\n",
    "location_df[\"timestamp\"] = location_df[\"timestampMs\"].apply(int).divide(1000) # divides all timstamps by 1000 so they are not in ms\n",
    "location_df[\"datetime\"] = (location_df[\"timestamp\"].apply(datetime.datetime.utcfromtimestamp).dt.strftime(\"%Y-%m-%d %H:%M\"))\n",
    "\n",
    "print(location_df[\"datetime\"][0])"
   ]
  },
  {
   "cell_type": "markdown",
   "metadata": {},
   "source": [
    "We only need part of the location history, as it goes back to 2016, and streaming history starts at 10-28-2019. We can find the index of the first row of `location_df` that starts after this date."
   ]
  },
  {
   "cell_type": "code",
   "execution_count": 8,
   "metadata": {},
   "outputs": [
    {
     "name": "stdout",
     "output_type": "stream",
     "text": [
      "2019-12-12 23:08\n",
      "927228\n",
      "2019-12-12 23:06\n",
      "927227\n"
     ]
    }
   ],
   "source": [
    "for i in range(len(location_df[\"datetime\"])):\n",
    "    if location_df[\"datetime\"][i] > spotify_df[\"endTime\"][0]:\n",
    "        print(location_df[\"datetime\"][i])\n",
    "        print(i)\n",
    "        print(location_df[\"datetime\"][i-1])\n",
    "        print(i-1)\n",
    "        break"
   ]
  },
  {
   "cell_type": "markdown",
   "metadata": {},
   "source": [
    "This shows that the index of the first row of `location_df` that is in the timeline of the spotify data is 895852. We can use this to cut off the part of the dataset that we don't need."
   ]
  },
  {
   "cell_type": "code",
   "execution_count": 9,
   "metadata": {},
   "outputs": [],
   "source": [
    "location_df = location_df[895852:][:]"
   ]
  },
  {
   "cell_type": "markdown",
   "metadata": {},
   "source": [
    "### Concatenating Streaming History and Location History\n",
    "We need to concatenate the streaming history and location history. We can do this by "
   ]
  },
  {
   "cell_type": "code",
   "execution_count": 10,
   "metadata": {},
   "outputs": [],
   "source": [
    "# make a column in spotify_df that shows the closest time in location_df\n",
    "def FindClosestTime(spotify_date):\n",
    "    for time in location_df[\"datetime\"]:\n",
    "        if time > spotify_date:\n",
    "            return time\n",
    "\n",
    "spotify_df[\"datetime\"] = spotify_df[\"endTime\"].apply(FindClosestTime)"
   ]
  },
  {
   "cell_type": "markdown",
   "metadata": {},
   "source": [
    "We can now concatenate based on \"closest time\" and \"datetime\". There was a problem joining them because some rows in location_df have matching values in \"datetime\", which creates duplicate columns when they are joined. This can be fixed using .drop_duplicates(), so that the \"datetime\" column in location_df doesn't have any duplicates."
   ]
  },
  {
   "cell_type": "code",
   "execution_count": 11,
   "metadata": {},
   "outputs": [],
   "source": [
    "combined_df = spotify_df.set_index(\"datetime\").join(location_df.drop_duplicates(subset=['datetime']).set_index(\"datetime\"), how='left', on='datetime')\n",
    "# print(combined_df)"
   ]
  },
  {
   "cell_type": "markdown",
   "metadata": {},
   "source": [
    "We need to check for missing values. There are missing values, at the end of the spotify data where the location history ends but the spotify data continues. There is about a day of data where this is true. We can drop all of the rows with missing values using .dropna()."
   ]
  },
  {
   "cell_type": "code",
   "execution_count": 12,
   "metadata": {},
   "outputs": [
    {
     "name": "stdout",
     "output_type": "stream",
     "text": [
      "Missing values in combined_df: True\n"
     ]
    }
   ],
   "source": [
    "print(\"Missing values in combined_df:\", combined_df.isnull().values.any())\n",
    "combined_df = combined_df.dropna()"
   ]
  },
  {
   "cell_type": "code",
   "execution_count": 13,
   "metadata": {},
   "outputs": [],
   "source": [
    "combined_df[\"time\"] = combined_df.index\n",
    "combined_df[\"index\"] = range(len(combined_df))\n",
    "combined_df = combined_df.set_index('index')"
   ]
  },
  {
   "cell_type": "markdown",
   "metadata": {},
   "source": [
    "Save to a csv to save time, because running the above code takes a long time."
   ]
  },
  {
   "cell_type": "code",
   "execution_count": 14,
   "metadata": {},
   "outputs": [],
   "source": [
    "combined_df.to_csv(\"combined.csv\")"
   ]
  },
  {
   "cell_type": "code",
   "execution_count": 15,
   "metadata": {},
   "outputs": [],
   "source": [
    "combined_df = pd.read_csv(\"combined.csv\")"
   ]
  },
  {
   "cell_type": "markdown",
   "metadata": {},
   "source": [
    "### Spotify API\n",
    "We can use the [spotify API](https://developer.spotify.com/) to get more data on the songs. I am interested in the tempo of each song. We can use the code we wrote in class to do this."
   ]
  },
  {
   "cell_type": "code",
   "execution_count": 60,
   "metadata": {},
   "outputs": [],
   "source": [
    "import requests\n",
    "import json \n",
    "import base64\n",
    "\n",
    "# TODO: move these into a file/environment variable external to the code\n",
    "client_ID = \"e4e9b57363d9471e9ffdf7ebf70818bf\"\n",
    "client_secret = \"2d1efcd217104009b91d263f7458ac67\"\n",
    "\n",
    "auth_endpoint = \"https://accounts.spotify.com/api/token\"\n",
    "search_API_endpoint = \"https://api.spotify.com/v1/search\"\n",
    "\n",
    "# get access token to use for authentication with search api\n",
    "def get_access_token():\n",
    "    # from Spotify docs:\n",
    "    # Required: Base 64 encoded string that contains the client ID and client secret key. \n",
    "    # The field must have the format: \n",
    "    # Authorization: Basic *<base64 encoded client_id:client_secret>*\n",
    "    message = client_ID + \":\" + client_secret\n",
    "    message_bytes = message.encode(\"ascii\")\n",
    "    base64_bytes = base64.b64encode(message_bytes)\n",
    "    encoded_client_details = base64_bytes.decode(\"ascii\")\n",
    "    \n",
    "    headers = {\"Authorization\": \"Basic \" + encoded_client_details}              \n",
    "    body = {\"grant_type\": \"client_credentials\"}\n",
    "    response = requests.post(url=auth_endpoint, headers=headers, data=body)\n",
    "    json_object = json.loads(response.text)\n",
    "    return json_object[\"access_token\"]\n",
    "    \n",
    "# make the request using requests module\n",
    "# need to send the access token via request headers\n",
    "def make_request(access_token, full_url):\n",
    "    headers = {\"Accept\": \"application/json\", \n",
    "               \"Content-Type\": \"application/json\", \n",
    "               \"Authorization\": \"Bearer \" + access_token}\n",
    "\n",
    "    response = requests.get(url=full_url, headers=headers)\n",
    "    json_object = json.loads(response.text)\n",
    "\n",
    "    return json_object\n",
    "\n",
    "# create request url, make request, return JSON response\n",
    "def search_request(access_token, search_term, search_type):\n",
    "    search_term = requests.utils.quote(search_term)\n",
    "    search_type = requests.utils.quote(search_type)\n",
    "    url = search_API_endpoint + \"?q=\" + search_term\n",
    "    url += \"&type=\" + search_type\n",
    "    url += \"&limit=1\"\n",
    "    json_obj = make_request(access_token, url)\n",
    "    return json_obj\n",
    "\n",
    "def get_id(track_name):\n",
    "    json_obj = search_request(access_token, track_name, \"track\")\n",
    "    return json_obj['tracks']['items'][0]['id']\n",
    "    \n",
    "def get_features(track_name):\n",
    "    try:\n",
    "        access_token = get_access_token()\n",
    "        song_id = get_id(track_name)\n",
    "        url = \"https://api.spotify.com/v1/audio-features/\" + song_id\n",
    "        json_obj = make_request(access_token, url)\n",
    "        return json_obj\n",
    "    except:\n",
    "        return None"
   ]
  },
  {
   "cell_type": "markdown",
   "metadata": {},
   "source": [
    "This code can be applied to all of the instances in combined_df to create a new column \"duration\" using `.apply`. This code is slow, so we will save combined_df to a csv so this doesn't need to run every time."
   ]
  },
  {
   "cell_type": "code",
   "execution_count": 91,
   "metadata": {},
   "outputs": [],
   "source": [
    "index_names = combined_df[ combined_df['artistName'] == \"Monday Morning Podcast\" ].index \n",
    "combined_df = combined_df.drop(index_names)\n",
    "\n",
    "index_names = combined_df[ combined_df['artistName'] == \"Barefoot to Emmaus\"].index \n",
    "combined_df = combined_df.drop(index_names)\n",
    "\n",
    "index_names = combined_df[ combined_df['artistName'] == \"The Bill Bert Podcast\"].index \n",
    "combined_df = combined_df.drop(index_names)\n",
    "\n",
    "combined_df.to_csv(\"removed_podcasts.csv\")"
   ]
  },
  {
   "cell_type": "code",
   "execution_count": 92,
   "metadata": {},
   "outputs": [],
   "source": [
    "combined_df = pd.read_csv(\"removed_podcasts.csv\")\n",
    "combined_df.index = range(len(combined_df))"
   ]
  },
  {
   "cell_type": "markdown",
   "metadata": {},
   "source": [
    "Reset the dictionaries. This is separated so that when the next block crashes, the dictionaries it is reading to retain their values."
   ]
  },
  {
   "cell_type": "code",
   "execution_count": null,
   "metadata": {},
   "outputs": [],
   "source": [
    "# duration_dict = {}\n",
    "# tempo_dict = {}\n",
    "# acousticness_dict = {}\n",
    "# danceability_dict = {}\n",
    "# energy_dict = {}\n",
    "# instrumentalness_dict = {}\n",
    "# liveness_dict = {}"
   ]
  },
  {
   "cell_type": "markdown",
   "metadata": {},
   "source": [
    "Request data from the Spotify API. We are requesting duration_ms, tempo, acousticness, danceability, energy, instrumentalness, adn liveness. We can request this data by first finding the song_id using `get_id(track_name)`, which is using the search function on the Spotify API to find the id of a song. This is limited to This id can then be used "
   ]
  },
  {
   "cell_type": "code",
   "execution_count": 192,
   "metadata": {
    "collapsed": true,
    "jupyter": {
     "outputs_hidden": true
    }
   },
   "outputs": [
    {
     "name": "stdout",
     "output_type": "stream",
     "text": [
      "12915 Red Wine, Mistakes, Mythology <class 'str'>\n",
      "12916 Posters <class 'str'>\n",
      "12917 Girl, I Wanna Lay You Down <class 'str'>\n",
      "12918 Rodeo Clowns <class 'str'>\n",
      "12919 Cry, Cry, Cry <class 'str'>\n",
      "12920 Talk Of The Town <class 'str'>\n",
      "12921 At Or With Me <class 'str'>\n",
      "12922 Spring Wind <class 'str'>\n",
      "12923 Country Road - Live In Santa Barbara, California/2008 <class 'str'>\n",
      "12924 Banana Pancakes <class 'str'>\n",
      "12925 Sitting, Waiting, Wishing <class 'str'>\n",
      "12926 Washing Dishes <class 'str'>\n",
      "12927 Never Know <class 'str'>\n",
      "12928 Constellations <class 'str'>\n",
      "12929 Flake <class 'str'>\n",
      "12930 Angel <class 'str'>\n",
      "12931 If I Had Eyes <class 'str'>\n",
      "12932 You Remind Me Of You <class 'str'>\n",
      "12933 Never Fade <class 'str'>\n",
      "12934 No Other Way <class 'str'>\n",
      "12935 Do You Remember <class 'str'>\n",
      "12936 My Mind Is For Sale <class 'str'>\n",
      "12937 Better Together <class 'str'>\n",
      "12938 Sunsets For Somebody Else <class 'str'>\n",
      "12939 Upside Down <class 'str'>\n",
      "12940 Fragments - From The Film \"The Smog Of The Sea\" <class 'str'>\n",
      "12941 Banana Pancakes <class 'str'>\n",
      "12942 Sitting, Waiting, Wishing <class 'str'>\n",
      "12943 Washing Dishes <class 'str'>\n",
      "12944 Do You Remember <class 'str'>\n",
      "12945 Constellations <class 'str'>\n",
      "12946 Flake <class 'str'>\n",
      "12947 Never Know <class 'str'>\n",
      "12948 If I Had Eyes <class 'str'>\n",
      "12949 Angel <class 'str'>\n",
      "12950 You Remind Me Of You <class 'str'>\n",
      "12951 Never Fade <class 'str'>\n",
      "12952 No Other Way <class 'str'>\n",
      "12953 Cheek To Cheek <class 'str'>\n",
      "12954 Dream A Little Dream Of Me - Single Version <class 'str'>\n",
      "12955 Spring Can Really Hang You Up The Most <class 'str'>\n",
      "12956 A Tisket A Tasket <class 'str'>\n",
      "12957 Baby It's Cold Outside <class 'str'>\n",
      "12958 Cry Me A River <class 'str'>\n",
      "12959 Let's Call The Whole Thing Off <class 'str'>\n",
      "12960 Into Each Life Some Rain Must Fall - Single Version <class 'str'>\n",
      "12961 Someone To Watch Over Me <class 'str'>\n",
      "12962 I Get A Kick Out Of You <class 'str'>\n",
      "12963 Clap Hands, Here Comes Charlie! <class 'str'>\n",
      "12964 I Didn't Know What Time It Was <class 'str'>\n",
      "12965 They Can't Take That Away From Me <class 'str'>\n",
      "12966 You Took Advantage Of Me <class 'str'>\n",
      "12967 Moonlight In Vermont <class 'str'>\n",
      "12968 Isn't This A Lovely Day? <class 'str'>\n",
      "12969 Let's Face The Music And Dance <class 'str'>\n",
      "12970 Mack The Knife - Live at the Deutschlandhalle, Berlin, 1960 <class 'str'>\n",
      "12971 In The Still Of The Night <class 'str'>\n",
      "12972 Lullaby Of Birdland <class 'str'>\n",
      "12973 Change Partners <class 'str'>\n",
      "12974 Cheek To Cheek <class 'str'>\n",
      "12975 Dream A Little Dream Of Me - Single Version <class 'str'>\n",
      "12976 Spring Can Really Hang You Up The Most <class 'str'>\n",
      "12977 A Tisket A Tasket <class 'str'>\n",
      "12978 Baby It's Cold Outside <class 'str'>\n",
      "12979 Cry Me A River <class 'str'>\n",
      "12980 Let's Call The Whole Thing Off <class 'str'>\n",
      "12981 Into Each Life Some Rain Must Fall - Single Version <class 'str'>\n",
      "12982 Someone To Watch Over Me <class 'str'>\n",
      "12983 Someone To Watch Over Me <class 'str'>\n",
      "12984 Someone To Watch Over Me <class 'str'>\n",
      "12985 I Get A Kick Out Of You <class 'str'>\n",
      "12986 Clap Hands, Here Comes Charlie! <class 'str'>\n",
      "12987 I Didn't Know What Time It Was <class 'str'>\n",
      "12988 They Can't Take That Away From Me <class 'str'>\n",
      "12989 You Took Advantage Of Me <class 'str'>\n",
      "12990 Moonlight In Vermont <class 'str'>\n",
      "12991 Isn't This A Lovely Day? <class 'str'>\n",
      "12992 Let's Face The Music And Dance <class 'str'>\n",
      "12993 Mack The Knife - Live at the Deutschlandhalle, Berlin, 1960 <class 'str'>\n",
      "12994 In The Still Of The Night <class 'str'>\n",
      "12995 Change Partners <class 'str'>\n",
      "12996 Lullaby Of Birdland <class 'str'>\n",
      "12997 The Way You Look Tonight <class 'str'>\n",
      "12998 Too Marvelous For Words <class 'str'>\n",
      "12999 How High The Moon - 1st Take <class 'str'>\n",
      "13000 Can't We Be Friends? <class 'str'>\n",
      "13001 Satin Doll <class 'str'>\n",
      "13002 Whisper Not <class 'str'>\n",
      "13003 Too Close For Comfort - Live At The Crescendo <class 'str'>\n",
      "13004 Witchcraft - Live (1958/Chicago) <class 'str'>\n",
      "13005 Smooth Sailing <class 'str'>\n",
      "13006 Perdido - Live At The Crescendo <class 'str'>\n",
      "13007 Summertime <class 'str'>\n",
      "13008 Take The \"A\" Train <class 'str'>\n",
      "13009 Bewitched, Bothered, And Bewildered <class 'str'>\n",
      "13010 It's Only A Paper Moon <class 'str'>\n",
      "13011 That's My Desire <class 'str'>\n",
      "13012 Robbins' Nest - Live At Carnegie Hall/1949 <class 'str'>\n",
      "13013 I Want To Be Happy <class 'str'>\n",
      "13014 Nice Work If You Can Get It <class 'str'>\n",
      "13015 Autumn In New York <class 'str'>\n",
      "13016 Dream A Little Dream Of Me - Single Version <class 'str'>\n",
      "13017 Summertime <class 'str'>\n",
      "13018 My Baby Just Cares for Me - 2013 Remastered Version <class 'str'>\n",
      "13019 My Funny Valentine <class 'str'>\n",
      "13020 Nature Boy <class 'str'>\n",
      "13021 Moonlight Serenade <class 'str'>\n",
      "13022 Blue Moon <class 'str'>\n",
      "13023 Moon River <class 'str'>\n",
      "13024 Beyond the Sea <class 'str'>\n",
      "13025 I Wish I Knew How It Would Feel to Be Free <class 'str'>\n",
      "13026 At Last <class 'str'>\n",
      "13027 Both Sides Now <class 'str'>\n",
      "13028 It's Only A Paper Moon <class 'str'>\n",
      "13029 Moon River(Vocal Audrey Hepburn) <class 'str'>\n",
      "13030 Somethin' Stupid <class 'str'>\n",
      "13031 Strange Fruit <class 'str'>\n",
      "13032 Come Away With Me <class 'str'>\n",
      "13033 (Sittin' On) the Dock of the Bay <class 'str'>\n",
      "13034 Mad About The Boy <class 'str'>\n",
      "13035 Crazy - Single Version <class 'str'>\n",
      "13036 As Time Goes By <class 'str'>\n",
      "13037 Don't Know Why <class 'str'>\n",
      "13038 Ain't That A Kick In The Head <class 'str'>\n",
      "13039 Mr. Bojangles - Remastered <class 'str'>\n",
      "13040 A Sunday Kind Of Love <class 'str'>\n",
      "13041 Stardust <class 'str'>\n",
      "13042 Cigarettes and Coffee <class 'str'>\n",
      "13043 Unforgettable <class 'str'>\n",
      "13044 I'll Be Seeing You <class 'str'>\n",
      "13045 I'm Hip <class 'str'>\n",
      "13046 Come Rain or Come Shine <class 'str'>\n",
      "13047 Stormy Weather <class 'str'>\n",
      "13048 You Make Me Feel So Young - Remastered 1998 <class 'str'>\n",
      "13049 Ain't No Sunshine <class 'str'>\n",
      "13050 All of Me (with Eddie Heywood & His Orchestra) <class 'str'>\n",
      "13051 Here Comes the Sun <class 'str'>\n",
      "13052 Minor Swing <class 'str'>\n",
      "13053 Cry Me A River <class 'str'>\n",
      "13054 Autumn In New York <class 'str'>\n",
      "13055 Dream A Little Dream Of Me - Single Version <class 'str'>\n",
      "13056 All Of You <class 'str'>\n",
      "13057 Let's Get Lost <class 'str'>\n",
      "13058 Bring It On Home To Me <class 'str'>\n",
      "13059 September In The Rain <class 'str'>\n",
      "13060 I've Got You Under My Skin - Remastered 1998 <class 'str'>\n",
      "13061 Nature Boy <class 'str'>\n",
      "13062 Moon River (From \"Breakfast at Tiffany's\") <class 'str'>\n",
      "13063 Beyond the Sea <class 'str'>\n",
      "13064 Stormy Weather <class 'str'>\n",
      "13065 My Baby Just Cares for Me - 2013 Remastered Version <class 'str'>\n",
      "13066 This Bitter Earth <class 'str'>\n",
      "13067 Help Me <class 'str'>\n",
      "13068 At Last <class 'str'>\n",
      "13069 Moon River <class 'str'>\n",
      "13070 At Last <class 'str'>\n",
      "13071 Moon River <class 'str'>\n",
      "13072 Moon River <class 'str'>\n",
      "13073 At Last <class 'str'>\n",
      "13074 Blue Moon <class 'str'>\n",
      "13075 Moon River(Vocal Audrey Hepburn) <class 'str'>\n",
      "13076 Come Away With Me <class 'str'>\n",
      "13077 You Send Me <class 'str'>\n",
      "13078 Summertime <class 'str'>\n",
      "13079 It's Only A Paper Moon <class 'str'>\n",
      "13080 (Sittin' On) the Dock of the Bay <class 'str'>\n",
      "13081 Moonlight Serenade <class 'str'>\n",
      "13082 Strange Fruit <class 'str'>\n",
      "13083 (What A) Wonderful World <class 'str'>\n",
      "13084 Somethin' Stupid <class 'str'>\n",
      "13085 A Sunday Kind Of Love <class 'str'>\n",
      "13086 It Never Entered My Mind <class 'str'>\n",
      "13087 The Way You Look Tonight <class 'str'>\n",
      "13088 My Funny Valentine <class 'str'>\n",
      "13089 Ain't That A Kick In The Head <class 'str'>\n",
      "13090 Mad About The Boy <class 'str'>\n",
      "13091 Cigarettes and Coffee <class 'str'>\n",
      "13092 As Time Goes By <class 'str'>\n",
      "13093 Chelsea Morning <class 'str'>\n",
      "13094 Unforgettable <class 'str'>\n",
      "13095 You Make Me Feel So Young - Remastered 1998 <class 'str'>\n",
      "13096 I Wish I Knew How It Would Feel to Be Free <class 'str'>\n",
      "13097 Ain't Misbehavin' <class 'str'>\n",
      "13098 Stormy Weather <class 'str'>\n",
      "13099 Cry Me A River <class 'str'>\n",
      "13100 I'll Be Seeing You <class 'str'>\n",
      "13101 Cactus Tree <class 'str'>\n",
      "13102 Come Rain or Come Shine <class 'str'>\n",
      "13103 I Put A Spell On You <class 'str'>\n",
      "13104 Rhode Island Is Famous For You <class 'str'>\n",
      "13105 Smile <class 'str'>\n",
      "13106 Try a Little Tenderness <class 'str'>\n",
      "13107 Moon River <class 'str'>\n",
      "13108 Be My Life's Companion <class 'str'>\n",
      "13109 Blueberry Hill <class 'str'>\n",
      "13110 You Are Woman I Am Man <class 'str'>\n",
      "13111 Jeepers Creepers <class 'str'>\n",
      "13112 Moon River <class 'str'>\n",
      "13113 Moon River <class 'str'>\n",
      "13114 Moon River <class 'str'>\n",
      "13115 Moon River <class 'str'>\n",
      "13116 Moon River <class 'str'>\n",
      "13117 Moon River <class 'str'>\n",
      "13118 Moon River <class 'str'>\n",
      "13119 Dream A Little Dream Of Me - Single Version <class 'str'>\n",
      "13120 It's Only A Paper Moon <class 'str'>\n",
      "13121 Bewitched, Bothered, And Bewildered <class 'str'>\n",
      "13122 Cheek To Cheek <class 'str'>\n",
      "13123 Blue Skies <class 'str'>\n",
      "13124 Summertime <class 'str'>\n",
      "13125 I Get A Kick Out Of You <class 'str'>\n",
      "13126 Autumn In New York <class 'str'>\n",
      "13127 My Funny Valentine <class 'str'>\n",
      "13128 I've Got A Crush On You <class 'str'>\n",
      "13129 The Nearness Of You <class 'str'>\n",
      "13130 Someone To Watch Over Me <class 'str'>\n",
      "13131 Undecided <class 'str'>\n",
      "13132 They Can't Take That Away From Me <class 'str'>\n",
      "13133 Let's Do It (Let's Fall In Love) <class 'str'>\n",
      "13134 Somewhere In The Night - Live At Antibes Jazz Festival, 7/29/64 <class 'str'>\n",
      "13135 My Romance <class 'str'>\n",
      "13136 Let's Call The Whole Thing Off <class 'str'>\n",
      "13137 How High The Moon - 1st Take <class 'str'>\n",
      "13138 In A Mellow Tone <class 'str'>\n",
      "13139 Can't We Be Friends? <class 'str'>\n",
      "13140 Manhattan <class 'str'>\n",
      "13141 Misty <class 'str'>\n",
      "13142 Love Is Here To Stay <class 'str'>\n",
      "13143 April In Paris <class 'str'>\n",
      "13144 Cry Me A River <class 'str'>\n",
      "13145 How Long Has This Been Going On? <class 'str'>\n",
      "13146 But Not For Me <class 'str'>\n",
      "13147 I Hear Music <class 'str'>\n",
      "13148 Isn't This A Lovely Day? <class 'str'>\n",
      "13149 In A Sentimental Mood <class 'str'>\n",
      "13150 Night And Day <class 'str'>\n",
      "13151 Miss Otis Regrets (She's Unable To Lunch Today) <class 'str'>\n",
      "13152 Solid As A Rock <class 'str'>\n",
      "13153 Moonlight In Vermont <class 'str'>\n",
      "13154 Looking For A Boy <class 'str'>\n",
      "13155 But Not For Me <class 'str'>\n",
      "13156 All The Things You Are <class 'str'>\n",
      "13157 Lullaby Of Birdland <class 'str'>\n",
      "13158 I Love Paris <class 'str'>\n",
      "13159 A Fine Romance <class 'str'>\n",
      "13160 Ev'ry Time We Say Goodbye <class 'str'>\n",
      "13161 Smooth Sailing <class 'str'>\n",
      "13162 A Tisket A Tasket <class 'str'>\n",
      "13163 My One And Only <class 'str'>\n",
      "13164 A Foggy Day <class 'str'>\n",
      "13165 Bill Bailey Won't You Please Come Home <class 'str'>\n",
      "13166 Soon <class 'str'>\n",
      "13167 Can Anyone Explain? <class 'str'>\n",
      "13168 Nature Boy <class 'str'>\n",
      "13169 Dream A Little Dream Of Me - Single Version <class 'str'>\n",
      "13170 It's Only A Paper Moon <class 'str'>\n",
      "13171 Bewitched, Bothered, And Bewildered <class 'str'>\n",
      "13172 Cheek To Cheek <class 'str'>\n",
      "13173 Dream A Little Dream Of Me - Single Version <class 'str'>\n",
      "13174 Blue Skies <class 'str'>\n",
      "13175 Summertime <class 'str'>\n",
      "13176 Moon River <class 'str'>\n",
      "13177 Be My Life's Companion <class 'str'>\n",
      "13178 Moon River <class 'str'>\n",
      "13179 Be My Life's Companion <class 'str'>\n",
      "13180 In A Sentimental Mood <class 'str'>\n",
      "13181 Chelsea Bridge - Rehearsal 4 <class 'str'>\n",
      "13182 But Not For Me <class 'str'>\n",
      "13183 Solid As A Rock <class 'str'>\n",
      "13184 A Fine Romance <class 'str'>\n",
      "13185 A Fine Romance <class 'str'>\n",
      "13186 Miss Otis Regrets (She's Unable To Lunch Today) <class 'str'>\n",
      "13187 I Love Paris <class 'str'>\n",
      "13188 Night And Day <class 'str'>\n",
      "13189 Ev'ry Time We Say Goodbye <class 'str'>\n",
      "13190 Moonlight In Vermont <class 'str'>\n",
      "13191 Looking For A Boy <class 'str'>\n",
      "13192 All The Things You Are <class 'str'>\n",
      "13193 Lullaby Of Birdland <class 'str'>\n",
      "13194 Danny Boy <class 'str'>\n",
      "13195 Dream A Little Dream Of Me - Single Version <class 'str'>\n",
      "13196 Oh, Lady Be Good <class 'str'>\n",
      "13197 You'll Have To Swing It (Mr. Paganini) - Pt. 1 & 2 <class 'str'>\n",
      "13198 They Can't Take That Away From Me <class 'str'>\n",
      "13199 Reaching For The Moon <class 'str'>\n",
      "13200 On The Sunny Side Of The Street <class 'str'>\n",
      "13201 They Can't Take That Away From Me <class 'str'>\n",
      "13202 Mack the Knife <class 'str'>\n",
      "13203 C'est si bon <class 'str'>\n",
      "13204 Can Anyone Explain? <class 'str'>\n",
      "13205 I've Got The World On A String <class 'str'>\n",
      "13206 A Fine Romance <class 'str'>\n",
      "13207 Jeepers Creepers <class 'str'>\n",
      "13208 When You're Smiling (The Whole World Smiles With You) - Without Intro <class 'str'>\n",
      "13209 Moon River <class 'str'>\n",
      "13210 A Fine Romance <class 'str'>\n",
      "13211 It Don't Mean a Thing (If It Ain't Got That Swing) <class 'str'>\n",
      "13212 When The Saints Go Marching In - Single Version <class 'str'>\n",
      "13213 Mood Indigo - 1990 Remaster <class 'str'>\n",
      "13214 The Skeleton In The Closet - Single Version <class 'str'>\n",
      "13215 Mack the Knife <class 'str'>\n",
      "13216 The Nearness Of You <class 'str'>\n",
      "13217 Hello, Dolly! <class 'str'>\n",
      "13218 Go Down Moses <class 'str'>\n",
      "13219 A Kiss To Build A Dream On - Single Version <class 'str'>\n",
      "13220 The Bare Necessities <class 'str'>\n",
      "13221 Dream A Little Dream Of Me - Single Version <class 'str'>\n",
      "13222 I Get A Kick Out Of You <class 'str'>\n",
      "13223 Isn't This A Lovely Day? <class 'str'>\n",
      "13224 Cabaret - Single Version <class 'str'>\n",
      "13225 All That Meat And No Potatoes <class 'str'>\n",
      "13226 The Gypsy - Live at Newport Jazz Festival 1956 <class 'str'>\n",
      "13227 St. James Infirmary (Gambler's Blues) <class 'str'>\n",
      "13228 How Long Has This Been Going On? <class 'str'>\n",
      "13229 Let's Do It (Let's Fall In Love) <class 'str'>\n",
      "13230 Makin' Whoopee <class 'str'>\n",
      "13231 Weather Bird <class 'str'>\n",
      "13232 C'est si bon <class 'str'>\n",
      "13233 Can't We Be Friends? <class 'str'>\n",
      "13234 I Only Have Eyes For You <class 'str'>\n",
      "13235 They Can't Take That Away From Me <class 'str'>\n",
      "13236 The Home Fire <class 'str'>\n",
      "13237 Can Anyone Explain? <class 'str'>\n",
      "13238 April In Paris <class 'str'>\n",
      "13239 Let's Call The Whole Thing Off <class 'str'>\n",
      "13240 Autumn In New York <class 'str'>\n",
      "13241 Mm-Mm <class 'str'>\n",
      "13242 Summertime <class 'str'>\n",
      "13243 Cheek To Cheek <class 'str'>\n",
      "13244 I Was Doing All Right <class 'str'>\n",
      "13245 We Have All The Time In The World - Remastered <class 'str'>\n",
      "13246 Don't Be That Way <class 'str'>\n",
      "13247 Spooks <class 'str'>\n",
      "13248 Kiss Of Fire <class 'str'>\n",
      "13249 La vie en rose - Single Version <class 'str'>\n",
      "13250 On The Sunny Side Of The Street <class 'str'>\n",
      "13251 Love Is Here To Stay <class 'str'>\n",
      "13252 What A Wonderful World - Single Version <class 'str'>\n",
      "13253 A Foggy Day <class 'str'>\n",
      "13254 Azalea <class 'str'>\n",
      "13255 Hello, Dolly! <class 'str'>\n",
      "13256 On The Sunny Side Of The Street <class 'str'>\n",
      "13257 I Only Have Eyes For You <class 'str'>\n",
      "13258 Moon River <class 'str'>\n",
      "13259 Moon River <class 'str'>\n",
      "13260 Isn't This A Lovely Day? <class 'str'>\n",
      "13261 You Are Woman I Am Man <class 'str'>\n",
      "13262 It's Been A Long, Long Time <class 'str'>\n",
      "13263 Moon River <class 'str'>\n",
      "13264 Blueberry Hill <class 'str'>\n",
      "13265 Be My Life's Companion <class 'str'>\n",
      "13266 Jeepers Creepers <class 'str'>\n",
      "13267 Dream A Little Dream Of Me - Single Version <class 'str'>\n",
      "13268 (I Left My Heart) In San Francisco <class 'str'>\n",
      "13269 La vie en rose - Single Version <class 'str'>\n",
      "13270 At Last <class 'str'>\n",
      "13271 Time After Time - Vocal Version <class 'str'>\n",
      "13272 Volare (Nel Blu Di Pinto Di Blu) - Remastered <class 'str'>\n",
      "13273 What A Wonderful World - Single Version <class 'str'>\n",
      "13274 My Little Brown Book <class 'str'>\n",
      "13275 Almost Like Being In Love - Remastered <class 'str'>\n",
      "13276 You Always Hurt The One You Love <class 'str'>\n",
      "13277 But Not For Me - Vocal Version <class 'str'>\n",
      "13278 We Have All The Time In The World - Remastered <class 'str'>\n",
      "13279 Memories Are Made Of This <class 'str'>\n",
      "13280 Exactly Like You <class 'str'>\n",
      "13281 I Can't Stop Loving You <class 'str'>\n",
      "13282 Blue And Sentimental <class 'str'>\n",
      "13283 I Can't Stop Loving You <class 'str'>\n",
      "13284 Blue And Sentimental <class 'str'>\n",
      "13285 Skokiaan (South African Song) <class 'str'>\n",
      "13286 It's Always You - Vocal Version <class 'str'>\n",
      "13287 Si tu vois ma mère - Slow <class 'str'>\n",
      "13288 (I Love You) For Sentimental Reasons <class 'str'>\n",
      "13289 Rags to Riches - Remastered <class 'str'>\n",
      "13290 A Kiss To Build A Dream On - Single Version <class 'str'>\n",
      "13291 King of the Road <class 'str'>\n",
      "13292 King of the Road <class 'str'>\n",
      "13293 Let's Do It (Let's Fall In Love) <class 'str'>\n",
      "13294 Autumn In New York <class 'str'>\n",
      "13295 Frosty The Snowman <class 'str'>\n",
      "13296 'Zat You, Santa Claus? - Single Version <class 'str'>\n",
      "13297 Christmas Night In Harlem - Single Version <class 'str'>\n",
      "13298 Santa Claus Is Coming To Town <class 'str'>\n",
      "13299 The Christmas Song <class 'str'>\n",
      "13300 Greensleeves <class 'str'>\n",
      "13301 White Christmas - Single Version <class 'str'>\n",
      "13302 Little Jack Frost Get Lost <class 'str'>\n",
      "13303 Santa Claus Is Comin' to Town <class 'str'>\n",
      "13304 Shake Hands with Santa Claus - Mono Recording <class 'str'>\n",
      "13305 Little Jack Frost Get Lost <class 'str'>\n",
      "13306 Baby, It's Cold Outside <class 'str'>\n",
      "13307 Have You Met Miss Jones? <class 'str'>\n",
      "13308 But Beautiful <class 'str'>\n",
      "13309 But Beautiful <class 'str'>\n",
      "13310 I Remember Clifford <class 'str'>\n"
     ]
    }
   ],
   "source": [
    "for i in combined_df[\"trackName\"][12915:].index:\n",
    "    track_name = combined_df[\"trackName\"][i]\n",
    "    access_token = get_access_token()\n",
    "    song_id = get_id(track_name)\n",
    "    url = \"https://api.spotify.com/v1/audio-features/\" + song_id\n",
    "    json_obj = make_request(access_token, url)\n",
    "    print(i, track_name, type(track_name))\n",
    "#     print(json_obj)\n",
    "    json_obj = get_features(track_name)\n",
    "#     print(json_obj['duration_ms'])\n",
    "#     test_df[\"duration\"][i] = json_obj['duration_ms']\n",
    "#     test_df[\"tempo\"][i] = json_obj['tempo']\n",
    "    duration_dict[i] = json_obj[\"duration_ms\"]\n",
    "    tempo_dict[i] = json_obj[\"tempo\"]\n",
    "    acousticness_dict[i] = json_obj[\"acousticness\"]\n",
    "    danceability_dict[i] = json_obj[\"danceability\"]\n",
    "    energy_dict[i] = json_obj[\"energy\"]\n",
    "    instrumentalness_dict[i] = json_obj[\"instrumentalness\"]\n",
    "    liveness_dict[i] = json_obj[\"liveness\"]"
   ]
  },
  {
   "cell_type": "code",
   "execution_count": 711,
   "metadata": {},
   "outputs": [],
   "source": [
    "combined_df[\"duration\"] = pd.Series(duration_dict)\n",
    "combined_df[\"tempo\"] = pd.Series(tempo_dict)\n",
    "combined_df[\"acousticness\"] = pd.Series(acousticness_dict)\n",
    "combined_df[\"danceability\"] = pd.Series(danceability_dict)\n",
    "combined_df[\"energy\"] = pd.Series(energy_dict)\n",
    "combined_df[\"instrumentalness\"] = pd.Series(instrumentalness_dict)\n",
    "combined_df[\"liveness\"] = pd.Series(liveness_dict)"
   ]
  },
  {
   "cell_type": "code",
   "execution_count": 199,
   "metadata": {},
   "outputs": [],
   "source": [
    "# print(combined_df[\"duration\"])\n",
    "combined_df.to_csv(\"added_spotify_api.csv\")"
   ]
  },
  {
   "cell_type": "markdown",
   "metadata": {},
   "source": [
    "We can use the duration column to create a new column, \"skipped\". This column will be no if the song was played all the way through, and yes if it was not. This column will be used for classification. "
   ]
  },
  {
   "cell_type": "code",
   "execution_count": 200,
   "metadata": {},
   "outputs": [],
   "source": [
    "import numpy as np\n",
    "combined_df['skipped'] = np.where(combined_df['duration']-10000 >= combined_df['msPlayed'], 'yes', 'no')"
   ]
  },
  {
   "cell_type": "markdown",
   "metadata": {},
   "source": [
    "### Finding City Names from Longitude/Latitude\n",
    "First we need to convert the long/lat data into a more useful form. It can be rounded and then divided by 10^7."
   ]
  },
  {
   "cell_type": "code",
   "execution_count": 204,
   "metadata": {},
   "outputs": [],
   "source": [
    "combined_df[\"latitude\"] = combined_df[\"latitudeE7\"].round(-7).divide(10000000)\n",
    "combined_df[\"longitude\"] = combined_df[\"longitudeE7\"].round(-7).divide(10000000)"
   ]
  },
  {
   "cell_type": "code",
   "execution_count": 207,
   "metadata": {},
   "outputs": [],
   "source": [
    "combined_df[\"city\"] = np.where(combined_df[\"longitude\"] < -119, 'Seattle', 'Spokane')"
   ]
  },
  {
   "cell_type": "code",
   "execution_count": 208,
   "metadata": {},
   "outputs": [
    {
     "name": "stdout",
     "output_type": "stream",
     "text": [
      "Missing values in location_df: False\n"
     ]
    }
   ],
   "source": [
    "print(\"Missing values in combined_df:\", combined_df.isnull().values.any())"
   ]
  },
  {
   "cell_type": "markdown",
   "metadata": {},
   "source": [
    "Now that the data cleaning is done, we need to save the DataFrame to a csv, we'll call this \"cleaned_data.csv\". This csv will be loaded in order to save time."
   ]
  },
  {
   "cell_type": "code",
   "execution_count": 206,
   "metadata": {},
   "outputs": [],
   "source": [
    "# combined_df.to_csv(\"cleaned_data.csv\")"
   ]
  },
  {
   "cell_type": "code",
   "execution_count": 209,
   "metadata": {},
   "outputs": [],
   "source": [
    "cleaned_df = pd.read_csv(\"cleaned_data.csv\")"
   ]
  },
  {
   "cell_type": "code",
   "execution_count": 279,
   "metadata": {
    "collapsed": true,
    "jupyter": {
     "outputs_hidden": true
    }
   },
   "outputs": [
    {
     "name": "stdout",
     "output_type": "stream",
     "text": [
      "                endTime       artistName                 trackName  msPlayed  \\\n",
      "0      2019-12-12 23:06      Johnny Nash     I Can See Clearly Now     59372   \n",
      "1      2019-12-13 02:37      Johnny Nash     I Can See Clearly Now    163012   \n",
      "2      2019-12-13 02:40      Johnny Nash     I Can See Clearly Now    140863   \n",
      "3      2019-12-13 05:27      Johnny Nash     I Can See Clearly Now    163575   \n",
      "4      2019-12-13 05:30      Johnny Nash     I Can See Clearly Now    162653   \n",
      "...                 ...              ...                       ...       ...   \n",
      "13306  2020-12-10 10:38  Seth MacFarlane   Baby, It's Cold Outside     19596   \n",
      "13307  2020-12-10 10:41  Seth MacFarlane  Have You Met Miss Jones?    150695   \n",
      "13308  2020-12-10 10:41  Seth MacFarlane             But Beautiful     35610   \n",
      "13309  2020-12-10 10:41  Seth MacFarlane             But Beautiful         0   \n",
      "13310  2020-12-10 10:48       Lee Morgan       I Remember Clifford    428973   \n",
      "\n",
      "       duration    tempo  acousticness  danceability  energy  \\\n",
      "0        164733  123.423         0.633         0.681  0.3730   \n",
      "1        164733  123.423         0.633         0.681  0.3730   \n",
      "2        164733  123.423         0.633         0.681  0.3730   \n",
      "3        164733  123.423         0.633         0.681  0.3730   \n",
      "4        164733  123.423         0.633         0.681  0.3730   \n",
      "...         ...      ...           ...           ...     ...   \n",
      "13306    143733  130.036         0.882         0.469  0.1960   \n",
      "13307    205491   63.512         0.995         0.546  0.0330   \n",
      "13308    231914   67.461         0.993         0.406  0.0509   \n",
      "13309    231914   67.461         0.993         0.406  0.0509   \n",
      "13310    183967  109.703         0.954         0.447  0.0848   \n",
      "\n",
      "       instrumentalness  liveness skipped   latitude   longitude     city  \n",
      "0               0.00113    0.0751     yes  47.667859 -117.401124  Spokane  \n",
      "1               0.00113    0.0751      no  47.667569 -117.398692  Spokane  \n",
      "2               0.00113    0.0751     yes  47.667395 -117.398664  Spokane  \n",
      "3               0.00113    0.0751      no  47.667317 -117.399161  Spokane  \n",
      "4               0.00113    0.0751      no  47.667816 -117.401138  Spokane  \n",
      "...                 ...       ...     ...        ...         ...      ...  \n",
      "13306           0.00000    0.0513     yes  47.665836 -122.277919  Seattle  \n",
      "13307           0.96600    0.0952     yes  47.665836 -122.277919  Seattle  \n",
      "13308           0.94400    0.1240     yes  47.665836 -122.277919  Seattle  \n",
      "13309           0.94400    0.1240     yes  47.665836 -122.277919  Seattle  \n",
      "13310           0.74500    0.1130      no  47.665836 -122.277919  Seattle  \n",
      "\n",
      "[13311 rows x 15 columns]\n"
     ]
    }
   ],
   "source": [
    "print(cleaned_df)"
   ]
  },
  {
   "cell_type": "markdown",
   "metadata": {},
   "source": [
    "## Creating Visual Representations\n",
    "### Time Played Per Month Pie Chart\n",
    "The first chart is a pie chart that shows the amount of time spent listening to music per month. This plot is created by grouping the `Dataframe` by the month in the endTime column, and finding the sum of msPlayed. The plot is then created by matplotlib using `plt.pie`. "
   ]
  },
  {
   "cell_type": "code",
   "execution_count": 210,
   "metadata": {},
   "outputs": [
    {
     "data": {
      "image/png": "[encoded data removed]",
      "text/plain": [
       "<Figure size 504x504 with 1 Axes>"
      ]
     },
     "metadata": {},
     "output_type": "display_data"
    }
   ],
   "source": [
    "ms_played_dict = {}\n",
    "month_dict = {\"01\":\"Jan\", \"02\":\"Feb\", \"03\":\"Mar\", \"04\":\"Apr\", \"05\":\"May\", \"06\":\"Jun\", \"07\":\"Jul\", \"08\":\"Aug\", \"09\":\"Sep\", \"10\":\"Oct\", \"11\":\"Nov\", \"12\":\"Dec\"}\n",
    "for group_name, group in combined_df.groupby(combined_df.endTime.str[5:7]):\n",
    "    ms_played = group.loc[:,'msPlayed'].sum()\n",
    "    ms_played_dict[month_dict[group_name]] = ms_played\n",
    "ms_played_ser = pd.Series(ms_played_dict)\n",
    "\n",
    "from matplotlib import pyplot as plt\n",
    "plt.figure(figsize=(7,7))\n",
    "plt.pie(ms_played_ser, labels=ms_played_ser.index, autopct='%.2f' )\n",
    "plt.title(\"Percentage Played Per Month\")\n",
    "plt.show()"
   ]
  },
  {
   "cell_type": "markdown",
   "metadata": {},
   "source": [
    "The chart shows that the month with the most listening activity was May, with 15.2% of all listening for the year, and that April was the month with the least activity, accounting for only 1.02% of listening. This chart shows that I listen to more music during the summer, with the highest four months being, May, June, July, and August."
   ]
  },
  {
   "cell_type": "markdown",
   "metadata": {},
   "source": [
    "### Most Played Songs\n",
    "This is a bar chart which shows the top 10 most played songs, and shows the amount of times each was played. This was created using `.value_counts()`, which counts the amount of repeats and orders the series by the most played."
   ]
  },
  {
   "cell_type": "code",
   "execution_count": 211,
   "metadata": {},
   "outputs": [
    {
     "data": {
      "image/png": "[encoded data removed]",
      "text/plain": [
       "<Figure size 432x288 with 1 Axes>"
      ]
     },
     "metadata": {
      "needs_background": "light"
     },
     "output_type": "display_data"
    }
   ],
   "source": [
    "most_played = combined_df[\"trackName\"].value_counts()\n",
    "\n",
    "plt.figure()\n",
    "plt.bar(most_played.iloc[0:10].index, height = most_played.iloc[0:10])\n",
    "plt.xticks(rotation=90)\n",
    "plt.title(\"Most Played Songs\")\n",
    "plt.ylabel(\"Times Played\")\n",
    "plt.xlabel(\"Song Title\")\n",
    "plt.show()"
   ]
  },
  {
   "cell_type": "markdown",
   "metadata": {},
   "source": [
    "This chart shows that my top song was \"Girl from the North Country\", which I played over 400 times, about 3 times more than any other song. This is not what I would call my favorite song, but the reason that I played it so many times is because it is one of my favorite songs to play on guitar. This is the case for several other songs in this chart. I am curious to see if the songs that I know how to play are played more often than other songs."
   ]
  },
  {
   "cell_type": "markdown",
   "metadata": {},
   "source": [
    "### Most Played Artists\n",
    "\n",
    "This is a similar chart to the last chart, except instead of trackName, its artistName."
   ]
  },
  {
   "cell_type": "code",
   "execution_count": 212,
   "metadata": {},
   "outputs": [
    {
     "data": {
      "image/png": "[encoded data removed]",
      "text/plain": [
       "<Figure size 432x288 with 1 Axes>"
      ]
     },
     "metadata": {
      "needs_background": "light"
     },
     "output_type": "display_data"
    }
   ],
   "source": [
    "most_played = combined_df[\"artistName\"].value_counts()\n",
    "# print(most_played)\n",
    "\n",
    "# print(most_played.iloc[0:10])\n",
    "plt.figure()\n",
    "# plt.bar(most_played.index, height=most_played)\n",
    "plt.bar(most_played.iloc[0:10].index, height = most_played.iloc[0:10])\n",
    "plt.xticks(rotation=90)\n",
    "plt.title(\"Most Played Artists\")\n",
    "plt.ylabel(\"Times Played\")\n",
    "plt.xlabel(\"Artist Name\")\n",
    "plt.show()"
   ]
  },
  {
   "cell_type": "markdown",
   "metadata": {},
   "source": [
    "This chart resembles the last chart, as most of the songs artists on the last chart are included in this chart. It also includes a heavy drop \n",
    "off between the most played and the rest."
   ]
  },
  {
   "cell_type": "markdown",
   "metadata": {},
   "source": [
    "### Seattle Energy vs. Spokane Energy\n",
    "Energy is one of the features on the Spotify API, and represents the energy of the song. The below chart is a histogram of the energy of songs played in Seattle and songs played in Spokane."
   ]
  },
  {
   "cell_type": "code",
   "execution_count": 318,
   "metadata": {},
   "outputs": [
    {
     "data": {
      "image/png": "[encoded data removed]",
      "text/plain": [
       "<Figure size 432x288 with 1 Axes>"
      ]
     },
     "metadata": {
      "needs_background": "light"
     },
     "output_type": "display_data"
    }
   ],
   "source": [
    "tempo_sea_ser = cleaned_df.groupby(\"city\").get_group(\"Seattle\")[\"energy\"]\n",
    "tempo_spo_ser = cleaned_df.groupby(\"city\").get_group(\"Spokane\")[\"energy\"]\n",
    "\n",
    "plt.figure()\n",
    "plt.hist(tempo_sea_ser, bins=25, color='blue')\n",
    "plt.hist(tempo_spo_ser, bins=25, color=\"r\")\n",
    "plt.show()"
   ]
  },
  {
   "cell_type": "markdown",
   "metadata": {},
   "source": [
    "## Data Analysis\n",
    "I am interested in whether I listen to different types of music in Spokane or Seattle. My lifestyle changes dramatically from Spokane to Seattle because I don't have school while I am in Seattle, and often listen to music with my brothers, who listen to different kinds of music than me. I want to know if the average tempo of my music changes with with these lifestlye changes. I predict that the average tempo of songs played in Seattle is faster than those played in Spokane, because in Spokane I normally listen to music while I am working on schoolwork, and I think that I play slower, more relaxing music while studying.\n",
    "\n",
    "H0: $\\mu_{tempo Seattle} \\leq \\mu_{tempo Spokane}$  \n",
    "H1: $\\mu_{tempo Seattle} > \\mu_{tempo Spokane}$\n",
    "\n",
    "$\\alpha = 0.05$\n",
    "\n",
    "This is a one-tail independent test, because the two samples contain different instances, and it is an inequality."
   ]
  },
  {
   "cell_type": "code",
   "execution_count": 327,
   "metadata": {},
   "outputs": [
    {
     "name": "stdout",
     "output_type": "stream",
     "text": [
      "t computed: -5.4596929208585\n",
      "p value: 2.4275491063061896e-08\n"
     ]
    }
   ],
   "source": [
    "import scipy.stats as stats\n",
    "\n",
    "tempo_seattle_ser = cleaned_df.groupby(\"city\").get_group(\"Seattle\")[\"tempo\"]\n",
    "tempo_spokane_ser = cleaned_df.groupby(\"city\").get_group(\"Spokane\")[\"tempo\"]\n",
    "\n",
    "t_computed, p_value = stats.ttest_ind(tempo_seattle_ser, tempo_spokane_ser)\n",
    "print(\"t computed:\", t_computed)\n",
    "print(\"p value:\", p_value /2) # one-tailed!"
   ]
  },
  {
   "cell_type": "markdown",
   "metadata": {},
   "source": [
    "Since p value < alpha, do not reject H0."
   ]
  },
  {
   "cell_type": "markdown",
   "metadata": {},
   "source": [
    "## Classification\n",
    "The class we are predicting is \"skipped\". Which tells if the song was skipped before it was over. The values are \"yes\" and \"no\". \"yes\" means that the song was skipped, and \"no\" means that it was not. The stakeholders interested in these results would be me, Spotify, and record labels. I would be impacted by the results because it would allow me to predict what songs I will like. Spotify would be impacted because if they did a similar analysis on the rest of their listeners, they could find out what songs they should recommend. Record labels would want to know so that they could release songs that people would like.\n",
    "\n",
    "We will do this using both kNN and a decision tree.\n",
    "### KNN\n",
    "First we will try to predict \"skipped\" using k nearest neighbors. We will do this using sklearn. The first step in doing this is to create a new `DataFrame` for the classification. We will need to scale some of the values, and we want to keep the values that are currently stored in cleaned_df. y is the attribute being classified, in this case, \"skipped\". x is the rest of the data, but we have removed the columns that aren't helpful. We are dropping \"artistName\", \"trackName\", and \"skipped\" because they are class labels. \"msPlayed\" needs to be dropped because it would be too easy to predict \"skipped\", because \"skipped\" is calculated off of \"msPlayed\". We are dropping \"longitude\" and \"latitude\" because they can be summarized better by \"city\"."
   ]
  },
  {
   "cell_type": "code",
   "execution_count": 615,
   "metadata": {},
   "outputs": [],
   "source": [
    "y = cleaned_df[\"skipped\"]\n",
    "x = cleaned_df.drop([\"artistName\", \"trackName\", \"msPlayed\", \"longitude\", \"latitude\", \"skipped\"], axis=1)"
   ]
  },
  {
   "cell_type": "markdown",
   "metadata": {},
   "source": [
    "Now we need to scale the data with a min max scale, meaning that the values go from 0 to 1, which will eliminate some attributes carrying more weight. We can do this using `MinMaxScaler()` from sklearn. A lot of the attributes are already scaled in this fashion, so we only need to do it for \"endTime\", \"duration\", \"city\", and \"tempo\". First we will do \"duration\" and \"tempo\"."
   ]
  },
  {
   "cell_type": "code",
   "execution_count": 616,
   "metadata": {},
   "outputs": [],
   "source": [
    "from sklearn.preprocessing import MinMaxScaler\n",
    "scaler = MinMaxScaler()\n",
    "\n",
    "x[\"duration\"] = scaler.fit_transform(x[\"duration\"].values.reshape(-1,1))\n",
    "x[\"tempo\"] = scaler.fit_transform(x[\"tempo\"].values.reshape(-1,1))"
   ]
  },
  {
   "cell_type": "markdown",
   "metadata": {},
   "source": [
    "Next we need to normalize the \"endTime\" column. We first need to convert it to unix time so that we can then scale it."
   ]
  },
  {
   "cell_type": "code",
   "execution_count": 617,
   "metadata": {},
   "outputs": [],
   "source": [
    "x[\"endTime\"] = x[\"endTime\"].apply(datetime.datetime.strptime, args=(\"%Y-%m-%d %H:%M\",)).apply(datetime.datetime.timestamp)\n",
    "x[\"endTime\"] = scaler.fit_transform(x[\"endTime\"].values.reshape(-1,1))"
   ]
  },
  {
   "cell_type": "markdown",
   "metadata": {},
   "source": [
    "Finally we need to normalize the \"city\" column. Seattle will be 0, and Spokane will be 1."
   ]
  },
  {
   "cell_type": "code",
   "execution_count": 618,
   "metadata": {},
   "outputs": [],
   "source": [
    "x[\"city\"] = np.where(x[\"city\"] == 'Seattle', 0, 1)"
   ]
  },
  {
   "cell_type": "markdown",
   "metadata": {},
   "source": [
    "Now that all of the columns are normalized, we can test kNN using the hold out method."
   ]
  },
  {
   "cell_type": "code",
   "execution_count": 691,
   "metadata": {},
   "outputs": [
    {
     "name": "stdout",
     "output_type": "stream",
     "text": [
      "kNN accuracy: 0.7013221153846154\n"
     ]
    }
   ],
   "source": [
    "from sklearn.neighbors import KNeighborsClassifier\n",
    "from sklearn.metrics import accuracy_score\n",
    "from sklearn.model_selection import train_test_split\n",
    "\n",
    "X_train, X_test, y_train, y_test = train_test_split(x, y, random_state=0, stratify=y, test_size=0.25)\n",
    "\n",
    "knn_clf = KNeighborsClassifier(n_neighbors=3, metric=\"euclidean\")\n",
    "knn_clf.fit(X_train, y_train)\n",
    "\n",
    "y_predicted_knn = knn_clf.predict(X_test)\n",
    "accuracy_knn = knn_clf.score(X_test, y_test)\n",
    "print(\"kNN accuracy:\",accuracy_knn)\n",
    "\n",
    "# print(y_test.value_counts()[0]/len(y_test))"
   ]
  },
  {
   "cell_type": "markdown",
   "metadata": {},
   "source": [
    "The accuracy is 70.1%. This is a slight improvement over always guessing \"no\", which would yield an accuracy of 68.6%. This is better than I expected the algorithm to be."
   ]
  },
  {
   "cell_type": "markdown",
   "metadata": {},
   "source": [
    "### Decision Tree\n",
    "Now we are going to test with a decision tree. We can use the same DataFrame as before."
   ]
  },
  {
   "cell_type": "code",
   "execution_count": 710,
   "metadata": {},
   "outputs": [
    {
     "name": "stdout",
     "output_type": "stream",
     "text": [
      "Decision Tree Accuracy: 0.7731370192307693\n"
     ]
    }
   ],
   "source": [
    "dt_clf = DecisionTreeClassifier(max_depth=12)\n",
    "dt_clf.fit(X_train, y_train)\n",
    "\n",
    "y_predicted_dt = dt_clf.predict(X_test)\n",
    "accuracy_dt = dt_clf.score(X_test, y_test)\n",
    "print(\"Decision Tree Accuracy:\", accuracy_dt)"
   ]
  },
  {
   "cell_type": "markdown",
   "metadata": {},
   "source": [
    "The decision tree has an accuracy of 77.3%. This is better than kNN. I am surprised that an algorithm is able to tell if I will skip a song with this high of an accuracy."
   ]
  },
  {
   "cell_type": "markdown",
   "metadata": {},
   "source": [
    "## Conclusion\n",
    "Conclusion: Provide a brief conclusion of your project, including a short summary of the dataset you used (and any of its inherent challenges for classification), the classification approach you developed, your classifiers’ performance, and any ideas you have on ways to improve performance. Lastly, describe the potential impacts of your work (including ethical impacts) for the stakeholder’s you described in the introduction.\n",
    "\n",
    "The dataset was very difficult to gather and clean, and most of my time was spent doing this. At the start of the semester, we were taught that data scientists spend most of their time cleaning data, and I probably should have expected that this would be true for me as well. Cleaning the data was very frustrating, because a lot of songs didn't work with the API. Gathering the data from the API took a really long time, because there are 13,000 instances, and each instance needed to request from the API three times, which makes ~40,000 requests from the API in total. This was the most difficult part of the project. I could have sped this up by requesting 10 data for 10 songs at a time, and by avoiding repeat songs. I had a lot of errors when I tried to do this, so I decided it would be easier to do it one at a time. In hindsight, I should have spent more time doing trying to do this, as it probably would have saved me time in the long run.\n",
    "\n",
    "This impacts me by informing me more about my listening habits. It could impact how Spotify recommends me music, and could impact how record labels release music. Spotify and record labels could make more money by using machine learning, and I'm sure that they are already doing this. This could have ethical impacts because machine learning algorithms could be biased, and might favor certain songs or artists. This would make it very difficult for some artists to get into the industry, because if there songs weren't being recommended then nobody would hear their music."
   ]
  }
 ],
 "metadata": {
  "kernelspec": {
   "display_name": "Python 3",
   "language": "python",
   "name": "python3"
  },
  "language_info": {
   "codemirror_mode": {
    "name": "ipython",
    "version": 3
   },
   "file_extension": ".py",
   "mimetype": "text/x-python",
   "name": "python",
   "nbconvert_exporter": "python",
   "pygments_lexer": "ipython3",
   "version": "3.8.3"
  }
 },
 "nbformat": 4,
 "nbformat_minor": 4
}
